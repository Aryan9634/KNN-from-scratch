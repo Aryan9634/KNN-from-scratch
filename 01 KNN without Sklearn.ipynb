{
 "cells": [
  {
   "cell_type": "markdown",
   "id": "f34754bf",
   "metadata": {},
   "source": [
    "### K-Nearest Neighbors Algorithm without Sklearn"
   ]
  },
  {
   "cell_type": "markdown",
   "id": "b8ff8da0",
   "metadata": {},
   "source": [
    "Importing required modules"
   ]
  },
  {
   "cell_type": "code",
   "execution_count": 1,
   "id": "41c89e5c",
   "metadata": {},
   "outputs": [],
   "source": [
    "import numpy as np\n",
    "import pandas as pd\n",
    "import seaborn as sns\n",
    "import matplotlib.pyplot as plt\n",
    "from sklearn.neighbors import KNeighborsClassifier\n",
    "%matplotlib inline"
   ]
  },
  {
   "cell_type": "markdown",
   "id": "a7cf3be1",
   "metadata": {},
   "source": [
    "Loading the dataset"
   ]
  },
  {
   "cell_type": "code",
   "execution_count": 2,
   "id": "fb144b69",
   "metadata": {
    "scrolled": true
   },
   "outputs": [
    {
     "data": {
      "text/html": [
       "<div>\n",
       "<style scoped>\n",
       "    .dataframe tbody tr th:only-of-type {\n",
       "        vertical-align: middle;\n",
       "    }\n",
       "\n",
       "    .dataframe tbody tr th {\n",
       "        vertical-align: top;\n",
       "    }\n",
       "\n",
       "    .dataframe thead th {\n",
       "        text-align: right;\n",
       "    }\n",
       "</style>\n",
       "<table border=\"1\" class=\"dataframe\">\n",
       "  <thead>\n",
       "    <tr style=\"text-align: right;\">\n",
       "      <th></th>\n",
       "      <th>sepal_length</th>\n",
       "      <th>sepal_width</th>\n",
       "      <th>petal_length</th>\n",
       "      <th>petal_width</th>\n",
       "      <th>species</th>\n",
       "    </tr>\n",
       "  </thead>\n",
       "  <tbody>\n",
       "    <tr>\n",
       "      <th>0</th>\n",
       "      <td>5.1</td>\n",
       "      <td>3.5</td>\n",
       "      <td>1.4</td>\n",
       "      <td>0.2</td>\n",
       "      <td>setosa</td>\n",
       "    </tr>\n",
       "    <tr>\n",
       "      <th>1</th>\n",
       "      <td>4.9</td>\n",
       "      <td>3.0</td>\n",
       "      <td>1.4</td>\n",
       "      <td>0.2</td>\n",
       "      <td>setosa</td>\n",
       "    </tr>\n",
       "    <tr>\n",
       "      <th>2</th>\n",
       "      <td>4.7</td>\n",
       "      <td>3.2</td>\n",
       "      <td>1.3</td>\n",
       "      <td>0.2</td>\n",
       "      <td>setosa</td>\n",
       "    </tr>\n",
       "    <tr>\n",
       "      <th>3</th>\n",
       "      <td>4.6</td>\n",
       "      <td>3.1</td>\n",
       "      <td>1.5</td>\n",
       "      <td>0.2</td>\n",
       "      <td>setosa</td>\n",
       "    </tr>\n",
       "  </tbody>\n",
       "</table>\n",
       "</div>"
      ],
      "text/plain": [
       "   sepal_length  sepal_width  petal_length  petal_width species\n",
       "0           5.1          3.5           1.4          0.2  setosa\n",
       "1           4.9          3.0           1.4          0.2  setosa\n",
       "2           4.7          3.2           1.3          0.2  setosa\n",
       "3           4.6          3.1           1.5          0.2  setosa"
      ]
     },
     "execution_count": 2,
     "metadata": {},
     "output_type": "execute_result"
    }
   ],
   "source": [
    "iris = sns.load_dataset(\"iris\")\n",
    "iris.head(4)"
   ]
  },
  {
   "cell_type": "markdown",
   "id": "3959ec8c",
   "metadata": {},
   "source": [
    "Extracting features and labels as X and y respectively "
   ]
  },
  {
   "cell_type": "markdown",
   "id": "b8ef9d01",
   "metadata": {},
   "source": [
    "- Features"
   ]
  },
  {
   "cell_type": "code",
   "execution_count": 18,
   "id": "2ad4f600",
   "metadata": {},
   "outputs": [
    {
     "name": "stdout",
     "output_type": "stream",
     "text": [
      "Features :  sepal_length , sepal_width , petal_length , petal_width\n"
     ]
    },
    {
     "data": {
      "text/html": [
       "<div>\n",
       "<style scoped>\n",
       "    .dataframe tbody tr th:only-of-type {\n",
       "        vertical-align: middle;\n",
       "    }\n",
       "\n",
       "    .dataframe tbody tr th {\n",
       "        vertical-align: top;\n",
       "    }\n",
       "\n",
       "    .dataframe thead th {\n",
       "        text-align: right;\n",
       "    }\n",
       "</style>\n",
       "<table border=\"1\" class=\"dataframe\">\n",
       "  <thead>\n",
       "    <tr style=\"text-align: right;\">\n",
       "      <th></th>\n",
       "      <th>sepal_length</th>\n",
       "      <th>sepal_width</th>\n",
       "      <th>petal_length</th>\n",
       "      <th>petal_width</th>\n",
       "    </tr>\n",
       "  </thead>\n",
       "  <tbody>\n",
       "    <tr>\n",
       "      <th>0</th>\n",
       "      <td>5.1</td>\n",
       "      <td>3.5</td>\n",
       "      <td>1.4</td>\n",
       "      <td>0.2</td>\n",
       "    </tr>\n",
       "    <tr>\n",
       "      <th>1</th>\n",
       "      <td>4.9</td>\n",
       "      <td>3.0</td>\n",
       "      <td>1.4</td>\n",
       "      <td>0.2</td>\n",
       "    </tr>\n",
       "    <tr>\n",
       "      <th>2</th>\n",
       "      <td>4.7</td>\n",
       "      <td>3.2</td>\n",
       "      <td>1.3</td>\n",
       "      <td>0.2</td>\n",
       "    </tr>\n",
       "  </tbody>\n",
       "</table>\n",
       "</div>"
      ],
      "text/plain": [
       "   sepal_length  sepal_width  petal_length  petal_width\n",
       "0           5.1          3.5           1.4          0.2\n",
       "1           4.9          3.0           1.4          0.2\n",
       "2           4.7          3.2           1.3          0.2"
      ]
     },
     "execution_count": 18,
     "metadata": {},
     "output_type": "execute_result"
    }
   ],
   "source": [
    "X = iris.drop([\"species\"],axis=1)\n",
    "print(\"Features : \",\" , \".join(X.columns))\n",
    "X.head(3)"
   ]
  },
  {
   "cell_type": "markdown",
   "id": "06895b91",
   "metadata": {},
   "source": [
    "- Labels"
   ]
  },
  {
   "cell_type": "code",
   "execution_count": 19,
   "id": "5fa63b3f",
   "metadata": {},
   "outputs": [
    {
     "name": "stdout",
     "output_type": "stream",
     "text": [
      "Labels :  setosa , versicolor , virginica\n"
     ]
    }
   ],
   "source": [
    "y = iris[\"species\"]\n",
    "print(\"Labels : \",\" , \".join(y.unique()))"
   ]
  },
  {
   "cell_type": "markdown",
   "id": "68c58392",
   "metadata": {},
   "source": [
    "**With sklearn**"
   ]
  },
  {
   "cell_type": "markdown",
   "id": "fde64f05",
   "metadata": {},
   "source": [
    "Score of models with Euclidean distance"
   ]
  },
  {
   "cell_type": "code",
   "execution_count": 23,
   "id": "32d6503f",
   "metadata": {},
   "outputs": [
    {
     "data": {
      "text/plain": [
       "[1.0, 0.98, 0.96, 0.96]"
      ]
     },
     "execution_count": 23,
     "metadata": {},
     "output_type": "execute_result"
    }
   ],
   "source": [
    "ESS = []\n",
    "for i in range(1,40):\n",
    "    model = KNeighborsClassifier(n_neighbors=i,metric=\"euclidean\").fit(X,y)\n",
    "    ESS.append(model.score(X,y))\n",
    "ESS[:4]"
   ]
  },
  {
   "cell_type": "markdown",
   "id": "6acdd742",
   "metadata": {},
   "source": [
    "Score of models with Manhattan distance"
   ]
  },
  {
   "cell_type": "code",
   "execution_count": 24,
   "id": "404cfdb8",
   "metadata": {},
   "outputs": [
    {
     "data": {
      "text/plain": [
       "[1.0, 0.9733333333333334, 0.96, 0.96]"
      ]
     },
     "execution_count": 24,
     "metadata": {},
     "output_type": "execute_result"
    }
   ],
   "source": [
    "MSS = []\n",
    "for i in range(1,40):\n",
    "    model = KNeighborsClassifier(n_neighbors=i,metric=\"manhattan\").fit(X,y)\n",
    "    MSS.append(model.score(X,y))\n",
    "MSS[:4]"
   ]
  },
  {
   "cell_type": "markdown",
   "id": "63be92e3",
   "metadata": {},
   "source": [
    "**Without sklearn**"
   ]
  },
  {
   "cell_type": "code",
   "execution_count": 100,
   "id": "64164a21",
   "metadata": {},
   "outputs": [],
   "source": [
    "class KNN():\n",
    "    def __init__(self,dataset,columns,labels,k,dist):\n",
    "        self.df = dataset #Loading the dataset\n",
    "        #Dropping list of features which are not required along with the labels' column.\n",
    "        self.columns = columns \n",
    "        #Choosing the column for labels\n",
    "        self.labels = labels\n",
    "        self.k = k #Initiating the value of k\n",
    "        self.dist = dist #Distance formula to be used\n",
    "    def Xandy(self):\n",
    "        self.X = self.df.drop(self.columns,axis=1) #features\n",
    "        self.y = self.df[self.labels] #labels\n",
    "        return self.X,self.y\n",
    "    def fit(self,sample):\n",
    "        self.sample=sample\n",
    "        if self.dist==\"E\": #Euclidean distance\n",
    "            a = np.sqrt(np.square(np.array(self.Xandy()[0])-self.sample).sum(axis=1))\n",
    "        elif self.dist==\"M\": #Manhattan distance\n",
    "            a = np.abs(np.array(self.Xandy()[0])-self.sample).sum(axis=1)\n",
    "        b = pd.DataFrame([a,self.Xandy()[1]]).T.rename(columns={0:\"Distance\",1:\"Classes\"})\n",
    "        b.Distance = b.Distance.astype(float)\n",
    "        return b\n",
    "    def predict(self,sample): #Prediction of class where the sample should belong\n",
    "        ans = self.fit(sample).nsmallest(self.k,\"Distance\").Classes.value_counts().index[0]\n",
    "        return ans\n",
    "    def Score(self):#Score of model\n",
    "        scores = []\n",
    "        for i in self.Xandy()[0].values:\n",
    "            scores.append(self.predict(i))\n",
    "        score = (scores==self.Xandy()[1]).value_counts()[True]/len(self.Xandy()[1])\n",
    "        return score\n",
    "    \n",
    "k1 = KNN(iris,[\"species\"],\"species\",11,\"E\")"
   ]
  },
  {
   "cell_type": "code",
   "execution_count": 101,
   "id": "354e8ef7",
   "metadata": {},
   "outputs": [
    {
     "name": "stdout",
     "output_type": "stream",
     "text": [
      "Sample belongs to : versicolor\n"
     ]
    }
   ],
   "source": [
    "print(\"Sample belongs to : \"+k1.predict(np.array([6,1.1,3.5,2.7])))"
   ]
  },
  {
   "cell_type": "code",
   "execution_count": 102,
   "id": "2c2a9198",
   "metadata": {},
   "outputs": [
    {
     "name": "stdout",
     "output_type": "stream",
     "text": [
      "Score of model :  0.9733333333333334\n"
     ]
    }
   ],
   "source": [
    "print(\"Score of model : \",k1.Score())"
   ]
  },
  {
   "cell_type": "markdown",
   "id": "bd88b779",
   "metadata": {},
   "source": [
    "Score of models with Euclidean distance"
   ]
  },
  {
   "cell_type": "code",
   "execution_count": 40,
   "id": "bf65b254",
   "metadata": {},
   "outputs": [],
   "source": [
    "ESWS = []\n",
    "for i in range(1,40):\n",
    "    k = KNN(iris,[\"species\"],\"species\",i,\"E\")\n",
    "    ESWS.append(k.Score())"
   ]
  },
  {
   "cell_type": "code",
   "execution_count": 41,
   "id": "b852d158",
   "metadata": {},
   "outputs": [
    {
     "data": {
      "text/plain": [
       "[1.0, 1.0, 0.96, 0.9666666666666667]"
      ]
     },
     "execution_count": 41,
     "metadata": {},
     "output_type": "execute_result"
    }
   ],
   "source": [
    "ESWS[:4]"
   ]
  },
  {
   "cell_type": "markdown",
   "id": "59967c40",
   "metadata": {},
   "source": [
    "Score of models with Manhattan distance"
   ]
  },
  {
   "cell_type": "code",
   "execution_count": 43,
   "id": "9e800a62",
   "metadata": {},
   "outputs": [],
   "source": [
    "MSWS = []\n",
    "for i in range(1,40):\n",
    "    k = KNN(iris,[\"species\"],\"species\",i,\"M\")\n",
    "    MSWS.append(k.Score())"
   ]
  },
  {
   "cell_type": "code",
   "execution_count": 44,
   "id": "9cbfcd7f",
   "metadata": {},
   "outputs": [
    {
     "data": {
      "text/plain": [
       "[1.0, 1.0, 0.96, 0.9666666666666667]"
      ]
     },
     "execution_count": 44,
     "metadata": {},
     "output_type": "execute_result"
    }
   ],
   "source": [
    "MSWS[:4]"
   ]
  },
  {
   "cell_type": "markdown",
   "id": "dd990acb",
   "metadata": {},
   "source": [
    "Comparative Visualization"
   ]
  },
  {
   "cell_type": "code",
   "execution_count": 99,
   "id": "593b6a54",
   "metadata": {},
   "outputs": [
    {
     "data": {
      "image/png": "[encoded data removed]",
      "text/plain": [
       "<Figure size 1152x360 with 2 Axes>"
      ]
     },
     "metadata": {
      "needs_background": "light"
     },
     "output_type": "display_data"
    }
   ],
   "source": [
    "plt.figure(figsize=(16,5))\n",
    "\n",
    "plt.subplot(1,2,1)\n",
    "plt.plot(range(1,40),ESS,color=\"r\")\n",
    "plt.plot(range(1,40),ESWS,color=\"g\")\n",
    "plt.legend([\"With sklearn\",\"Without sklearn\"])\n",
    "plt.ylabel(\"Euclidean distance\")\n",
    "plt.xlabel(\"Value of k\")\n",
    "plt.grid(linewidth=0.5)\n",
    "\n",
    "plt.subplot(1,2,2)\n",
    "plt.plot(range(1,40),MSS,color=\"r\")\n",
    "plt.plot(range(1,40),MSWS,color=\"g\")\n",
    "plt.legend([\"With sklearn\",\"Without sklearn\"])\n",
    "plt.ylabel(\"Manhattan distance\")\n",
    "plt.xlabel(\"Value of k\")\n",
    "plt.grid(linewidth=0.5)"
   ]
  }
 ],
 "metadata": {
  "kernelspec": {
   "display_name": "Python 3 (ipykernel)",
   "language": "python",
   "name": "python3"
  },
  "language_info": {
   "codemirror_mode": {
    "name": "ipython",
    "version": 3
   },
   "file_extension": ".py",
   "mimetype": "text/x-python",
   "name": "python",
   "nbconvert_exporter": "python",
   "pygments_lexer": "ipython3",
   "version": "3.10.0"
  }
 },
 "nbformat": 4,
 "nbformat_minor": 5
}
